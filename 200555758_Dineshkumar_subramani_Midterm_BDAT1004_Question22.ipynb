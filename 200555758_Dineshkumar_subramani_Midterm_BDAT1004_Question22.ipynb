{
 "cells": [
  {
   "cell_type": "markdown",
   "id": "b3691e4d",
   "metadata": {},
   "source": [
    "# Question 22"
   ]
  },
  {
   "cell_type": "code",
   "execution_count": 99,
   "id": "e00600dd",
   "metadata": {},
   "outputs": [],
   "source": [
    "# +---------------+---------+\n",
    "# | Column Name   | Type    |\n",
    "# +---------------+---------+\n",
    "# | id            | int     |\n",
    "# | recordDate    | date    |\n",
    "# | temperature   | int     |\n",
    "# +---------------+---------+\n",
    "# id is the column with unique values for this table.\n",
    "# This table contains information about the temperature on a certain day.\n",
    " \n",
    " \n",
    "\n",
    "### Write a solution to find all dates' Id with higher temperatures compared to its previous dates (yesterday).\n",
    "\n",
    "# Return the result table in any order.\n",
    "\n",
    "# Please use the following input Weather table for your solution. To receive full marks you will need to create the database, create the table, insert the data below and execute the SQL query.\n",
    "\n",
    " \n",
    "\n",
    "# Input: \n",
    "# Weather table:\n",
    "# +----+------------+-------------+\n",
    "# | id | recordDate | temperature |\n",
    "# +----+------------+-------------+\n",
    "# | 1  | 2015-01-01 | 10          |\n",
    "# | 2  | 2015-01-02 | 25          |\n",
    "# | 3  | 2015-01-03 | 20          |\n",
    "# | 4  | 2015-01-04 | 30          |\n",
    "# +----+------------+-------------+\n",
    "# Output: \n",
    "# +----+\n",
    "# | id |\n",
    "# +----+\n",
    "# | 2  |\n",
    "# | 4  |\n",
    "# +----+\n",
    "# Explanation: \n",
    "# In 2015-01-02, the temperature was higher than the previous day (10 -> 25).\n",
    "# In 2015-01-04, the temperature was higher than the previous day (20 -> 30)."
   ]
  },
  {
   "cell_type": "code",
   "execution_count": 71,
   "id": "95335a97",
   "metadata": {},
   "outputs": [],
   "source": [
    "import sqlite3\n",
    "import pandas as pd"
   ]
  },
  {
   "cell_type": "markdown",
   "id": "7ce2e903",
   "metadata": {},
   "source": [
    "### Creating a database in jupter notebook using sqlite3 python library"
   ]
  },
  {
   "cell_type": "code",
   "execution_count": 89,
   "id": "2754e67b",
   "metadata": {},
   "outputs": [],
   "source": [
    "conn = sqlite3.connect('weather.db')\n",
    "cursor = conn.cursor()"
   ]
  },
  {
   "cell_type": "markdown",
   "id": "7bb02d9e",
   "metadata": {},
   "source": [
    "### Creating a table named 'Weather'"
   ]
  },
  {
   "cell_type": "code",
   "execution_count": 90,
   "id": "2f4b08ec",
   "metadata": {},
   "outputs": [
    {
     "data": {
      "text/plain": [
       "<sqlite3.Cursor at 0x1323002c0>"
      ]
     },
     "execution_count": 90,
     "metadata": {},
     "output_type": "execute_result"
    }
   ],
   "source": [
    "cursor.execute('''\n",
    "CREATE TABLE IF NOT EXISTS Weather (\n",
    "    id INTEGER PRIMARY KEY,\n",
    "    recordDate DATE,\n",
    "    temperature INTEGER\n",
    ")\n",
    "''')"
   ]
  },
  {
   "cell_type": "markdown",
   "id": "ab241371",
   "metadata": {},
   "source": [
    "### Inserting data into the Weather table as given above"
   ]
  },
  {
   "cell_type": "code",
   "execution_count": 91,
   "id": "3d5c4a5d",
   "metadata": {},
   "outputs": [
    {
     "data": {
      "text/plain": [
       "<sqlite3.Cursor at 0x1323002c0>"
      ]
     },
     "execution_count": 91,
     "metadata": {},
     "output_type": "execute_result"
    }
   ],
   "source": [
    "cursor.execute(\"INSERT INTO Weather (id, recordDate, temperature) VALUES(1 ,'2015-01-01', 10)\")\n",
    "cursor.execute(\"INSERT INTO Weather (id, recordDate, temperature) VALUES(2 ,'2015-01-02', 25)\")\n",
    "cursor.execute(\"INSERT INTO Weather (id, recordDate, temperature) VALUES(3 ,'2015-01-03', 20)\")\n",
    "cursor.execute(\"INSERT INTO Weather (id, recordDate, temperature) VALUES(4 ,'2015-01-04', 30)\")"
   ]
  },
  {
   "cell_type": "code",
   "execution_count": 92,
   "id": "50562839",
   "metadata": {},
   "outputs": [],
   "source": [
    "conn.commit()"
   ]
  },
  {
   "cell_type": "markdown",
   "id": "544b4cd3",
   "metadata": {},
   "source": [
    "### Execution of the query to fetch the data"
   ]
  },
  {
   "cell_type": "code",
   "execution_count": 93,
   "id": "1f38ebf8",
   "metadata": {
    "scrolled": true
   },
   "outputs": [
    {
     "name": "stdout",
     "output_type": "stream",
     "text": [
      "   id  recordDate  temperature\n",
      "0   1  2015-01-01           10\n",
      "1   2  2015-01-02           25\n",
      "2   3  2015-01-03           20\n",
      "3   4  2015-01-04           30\n"
     ]
    }
   ],
   "source": [
    "# Checking if the data is fed correctly into the Weather table\n",
    "\n",
    "weather_df = pd.read_sql_query(\"SELECT * FROM Weather\", conn)\n",
    "print(weather_df)"
   ]
  },
  {
   "cell_type": "code",
   "execution_count": 94,
   "id": "f9c9ca09",
   "metadata": {},
   "outputs": [],
   "source": [
    "# Query to get the dates id's of the rows which have higher temperature than the above one (previous date)\n",
    "\n",
    "query = '''\n",
    "SELECT w1.id FROM Weather w1 JOIN Weather w2 ON DATE(w1.recordDate) = DATE(w2.recordDate, '+1 day')\n",
    "WHERE w1.temperature > w2.temperature\n",
    "'''"
   ]
  },
  {
   "cell_type": "code",
   "execution_count": 95,
   "id": "9f54fb69",
   "metadata": {},
   "outputs": [],
   "source": [
    "cursor.execute(query)\n",
    "results = cursor.fetchall()"
   ]
  },
  {
   "cell_type": "markdown",
   "id": "e3378a83",
   "metadata": {},
   "source": [
    "### Converting the above results got from the execution into a dataframe to print and check in the notebook"
   ]
  },
  {
   "cell_type": "code",
   "execution_count": 96,
   "id": "6a82c93d",
   "metadata": {},
   "outputs": [
    {
     "name": "stdout",
     "output_type": "stream",
     "text": [
      "   id\n",
      "0   2\n",
      "1   4\n"
     ]
    }
   ],
   "source": [
    "datafr = pd.DataFrame(results, columns=['id'])\n",
    "print(datafr)"
   ]
  },
  {
   "cell_type": "code",
   "execution_count": 97,
   "id": "f7490d55",
   "metadata": {},
   "outputs": [],
   "source": [
    "cursor.execute(\"DELETE FROM Weather\")\n",
    "conn.commit()"
   ]
  },
  {
   "cell_type": "code",
   "execution_count": 98,
   "id": "40670c1f",
   "metadata": {},
   "outputs": [],
   "source": [
    "conn.close()"
   ]
  },
  {
   "cell_type": "code",
   "execution_count": 84,
   "id": "7d1e2dde",
   "metadata": {},
   "outputs": [],
   "source": [
    "################################"
   ]
  }
 ],
 "metadata": {
  "kernelspec": {
   "display_name": "Python 3 (ipykernel)",
   "language": "python",
   "name": "python3"
  },
  "language_info": {
   "codemirror_mode": {
    "name": "ipython",
    "version": 3
   },
   "file_extension": ".py",
   "mimetype": "text/x-python",
   "name": "python",
   "nbconvert_exporter": "python",
   "pygments_lexer": "ipython3",
   "version": "3.10.9"
  }
 },
 "nbformat": 4,
 "nbformat_minor": 5
}
